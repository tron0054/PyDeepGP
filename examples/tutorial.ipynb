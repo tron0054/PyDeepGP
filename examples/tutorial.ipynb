{
 "cells": [
  {
   "cell_type": "markdown",
   "metadata": {},
   "source": [
    "# PyDeepGP tutorial"
   ]
  },
  {
   "cell_type": "code",
   "execution_count": 1,
   "metadata": {
    "collapsed": true
   },
   "outputs": [],
   "source": [
    "import numpy as np\n",
    "import GPy\n",
    "from pylab import *\n",
    "%matplotlib inline\n",
    "import os\n",
    "from sys import path\n",
    "np.random.seed(42)"
   ]
  },
  {
   "cell_type": "code",
   "execution_count": 2,
   "metadata": {
    "collapsed": true
   },
   "outputs": [],
   "source": [
    "# Add parent directory to path if deepgp is not there already\n",
    "pwd = os.getcwd()\n",
    "base_path = pwd[0:pwd.rfind(os.sep)]\n",
    "path.insert(0,base_path)"
   ]
  },
  {
   "cell_type": "code",
   "execution_count": 3,
   "metadata": {
    "collapsed": true
   },
   "outputs": [],
   "source": [
    "import deepgp"
   ]
  },
  {
   "cell_type": "code",
   "execution_count": 4,
   "metadata": {
    "collapsed": true
   },
   "outputs": [],
   "source": [
    "# Utility to load sample data. It can be installed with pip. Otherwise just load some other data.\n",
    "import pods"
   ]
  },
  {
   "cell_type": "markdown",
   "metadata": {},
   "source": [
    "## Unsupervised learning (oil data)"
   ]
  },
  {
   "cell_type": "code",
   "execution_count": 5,
   "metadata": {
    "collapsed": true
   },
   "outputs": [],
   "source": [
    "# Load data\n",
    "data = pods.datasets.oil_100()\n",
    "Y = data['X']\n",
    "labels =  data['Y'].argmax(axis=1)\n",
    "\n",
    "# Number of latent dimensions per layer\n",
    "Q1, Q2 = 5, 4\n",
    "\n",
    "# Type of kernel per layer\n",
    "kern1 = GPy.kern.RBF(Q1,ARD=True) + GPy.kern.Bias(Q1)\n",
    "kern2 = GPy.kern.RBF(Q2,ARD=True) + GPy.kern.Bias(Q2)\n",
    "\n",
    "# Number of inducing points per layer (can be set to different if given as list).\n",
    "num_inducing = 40\n",
    "\n",
    "# Whether to use back-constraint for variational posterior\n",
    "back_constraint = False\n",
    "\n",
    "# Dimensions of the MLP back-constraint if set to true\n",
    "encoder_dims=[[300],[150]]"
   ]
  },
  {
   "cell_type": "code",
   "execution_count": 7,
   "metadata": {
    "collapsed": true
   },
   "outputs": [],
   "source": [
    "m = deepgp.DeepGP([Y.shape[1],Q1,Q2],\n",
    "                  Y,kernels=[kern1,kern2], \n",
    "                  num_inducing=num_inducing, \n",
    "                  back_constraint=back_constraint, \n",
    "                  encoder_dims = encoder_dims)"
   ]
  },
  {
   "cell_type": "code",
   "execution_count": 8,
   "metadata": {
    "collapsed": true
   },
   "outputs": [],
   "source": [
    "# Make sure initial noise variance gives a reasonable signal to noise ratio\n",
    "for i in range(len(m.layers)):\n",
    "    output_var = m.layers[i].Y.var() if i==0 else m.layers[i].Y.mean.var()\n",
    "    m.layers[i].Gaussian_noise.variance = output_var*0.01"
   ]
  },
  {
   "cell_type": "code",
   "execution_count": 9,
   "metadata": {},
   "outputs": [
    {
     "name": "stdout",
     "output_type": "stream",
     "text": [
      "Running L-BFGS-B (Scipy implementation) Code:\n",
      "  runtime   i      f              |g|        \n",
      "    00s12  0001   7.755559e+04   8.005322e+09 \n",
      "    01s12  0037   1.108158e+02   7.873395e+02 \n",
      "    03s13  0121  -5.507231e+01   1.949809e+02 \n",
      "    11s21  0447  -1.728118e+02   2.852418e+01 \n",
      "    35s51  1340  -2.465651e+02   1.361611e+02 \n",
      "    49s69  1848  -2.566525e+02   1.575437e+01 \n",
      " 02m26s44  5002  -2.615853e+02   1.870644e+00 \n",
      "Runtime:  02m26s44\n",
      "Optimization status: Maximum number of f evaluations reached\n",
      "\n"
     ]
    }
   ],
   "source": [
    "m.optimize(max_iters=5000, messages=True)"
   ]
  },
  {
   "cell_type": "code",
   "execution_count": 10,
   "metadata": {},
   "outputs": [
    {
     "name": "stderr",
     "output_type": "stream",
     "text": [
      " /Users/neil/anaconda3/lib/python3.6/site-packages/matplotlib/__init__.py:1710: MatplotlibDeprecationWarning:The *left* kwarg to `bar` is deprecated use *x* instead. Support for *left* will be removed in Matplotlib 3.0\n"
     ]
    },
    {
     "data": {
      "text/plain": [
       "<matplotlib.axes._subplots.AxesSubplot at 0x11c74b8d0>"
      ]
     },
     "execution_count": 10,
     "metadata": {},
     "output_type": "execute_result"
    },
    {
     "name": "stderr",
     "output_type": "stream",
     "text": [
      " /Users/neil/anaconda3/lib/python3.6/site-packages/matplotlib/figure.py:1999: UserWarning:This figure includes Axes that are not compatible with tight_layout, so results might be incorrect.\n"
     ]
    },
    {
     "data": {
      "image/png": "[encoded data removed]",
      "text/plain": [
       "<matplotlib.figure.Figure at 0x11bc006d8>"
      ]
     },
     "metadata": {},
     "output_type": "display_data"
    },
    {
     "data": {
      "image/png": "[encoded data removed]",
      "text/plain": [
       "<matplotlib.figure.Figure at 0x11bc004e0>"
      ]
     },
     "metadata": {},
     "output_type": "display_data"
    }
   ],
   "source": [
    "# Plot ARD scales per layer\n",
    "m.obslayer.kern.plot_ARD()\n",
    "m.layer_1.kern.plot_ARD()"
   ]
  },
  {
   "cell_type": "code",
   "execution_count": 11,
   "metadata": {},
   "outputs": [
    {
     "data": {
      "text/plain": [
       "Text(0.5,1,'Layer 1')"
      ]
     },
     "execution_count": 11,
     "metadata": {},
     "output_type": "execute_result"
    },
    {
     "data": {
      "image/png": "[encoded data removed]",
      "text/plain": [
       "<matplotlib.figure.Figure at 0x12189a5c0>"
      ]
     },
     "metadata": {},
     "output_type": "display_data"
    },
    {
     "data": {
      "image/png": "[encoded data removed]",
      "text/plain": [
       "<matplotlib.figure.Figure at 0x121ad1358>"
      ]
     },
     "metadata": {},
     "output_type": "display_data"
    }
   ],
   "source": [
    "# From the plots above, we see which ones are the dominant dimensions for each layer. \n",
    "# So we use these dimensions in the visualization of the latent space below.\n",
    "plt.figure(figsize=(5,5))\n",
    "deepgp.util.visualize_DGP(m, labels, layer=0, dims=[1,2]); plt.title('Layer 0')\n",
    "plt.figure(figsize=(5,5))\n",
    "deepgp.util.visualize_DGP(m, labels, layer=1, dims=[0,1]); plt.title('Layer 1')"
   ]
  },
  {
   "cell_type": "markdown",
   "metadata": {},
   "source": [
    "## Supervised learning"
   ]
  },
  {
   "cell_type": "code",
   "execution_count": 12,
   "metadata": {
    "collapsed": true
   },
   "outputs": [],
   "source": [
    "# Load some mocap data.\n",
    "data = pods.datasets.cmu_mocap_35_walk_jog()\n",
    "\n",
    "Ntr = 100\n",
    "Nts = 500\n",
    "\n",
    "# All data represented in Y_all, which is the angles of the movement of the subject\n",
    "Y_all = data['Y']\n",
    "perm = np.random.permutation(Ntr+Nts)\n",
    "index_training = np.sort(perm[0:Ntr])\n",
    "index_test     = np.sort(perm[Ntr:Ntr+Nts])\n",
    "\n",
    "Y_all_tr = Y_all[index_training,:]\n",
    "Y_all_ts = Y_all[index_test,    :]\n",
    "\n",
    "\n",
    "# Some of the features (body joints) to be used as inputs, and some as outputs\n",
    "X_tr = Y_all_tr[:,0:55].copy()\n",
    "Y_tr = Y_all_tr[:, 55:].copy()\n",
    "\n",
    "X_ts = Y_all_ts[:,0:55].copy()\n",
    "Y_ts = Y_all_ts[:, 55:].copy()\n",
    "\n",
    "# TODO: You might need to normalize the input and/or output data."
   ]
  },
  {
   "cell_type": "code",
   "execution_count": 13,
   "metadata": {
    "collapsed": true
   },
   "outputs": [],
   "source": [
    "# Number of latent dimensions (single hidden layer, since the top layer is observed)\n",
    "Q = 5\n",
    "\n",
    "# Define what kernels to use per layer\n",
    "kern1 = GPy.kern.RBF(Q,ARD=True) + GPy.kern.Bias(Q)\n",
    "kern2 = GPy.kern.RBF(Q,ARD=False) + GPy.kern.Bias(X_tr.shape[1])\n",
    "\n",
    "# Number of inducing points to use\n",
    "num_inducing = 40\n",
    "\n",
    "# Whether to use back-constraint for variational posterior\n",
    "back_constraint = False\n",
    "\n",
    "# Dimensions of the MLP back-constraint if set to true\n",
    "encoder_dims=[[300],[150]]"
   ]
  },
  {
   "cell_type": "code",
   "execution_count": 14,
   "metadata": {
    "collapsed": true
   },
   "outputs": [],
   "source": [
    "m = deepgp.DeepGP([Y_tr.shape[1],Q,X_tr.shape[1]],\n",
    "                  Y_tr, X_tr=X_tr,kernels=[kern1, kern2], \n",
    "                  num_inducing=num_inducing, back_constraint=back_constraint)"
   ]
  },
  {
   "cell_type": "code",
   "execution_count": 15,
   "metadata": {
    "collapsed": true
   },
   "outputs": [],
   "source": [
    "# Make sure initial noise variance gives a reasonable signal to noise ratio.\n",
    "# Fix to that value for a few iterations to avoid early local minima\n",
    "for i in range(len(m.layers)):\n",
    "    output_var = m.layers[i].Y.var() if i==0 else m.layers[i].Y.mean.var()\n",
    "    m.layers[i].Gaussian_noise.variance = output_var*0.01\n",
    "    m.layers[i].Gaussian_noise.variance.fix()"
   ]
  },
  {
   "cell_type": "code",
   "execution_count": 16,
   "metadata": {},
   "outputs": [
    {
     "data": {
      "text/html": [
       "<style type=\"text/css\">\n",
       ".pd{\n",
       "    font-family: \"Courier New\", Courier, monospace !important;\n",
       "    width: 100%;\n",
       "    padding: 3px;\n",
       "}\n",
       "</style>\n",
       "\n",
       "<p class=pd>\n",
       "<b>Model</b>: deepgp<br>\n",
       "<b>Objective</b>: 27729.285582716577<br>\n",
       "<b>Number of Parameters</b>: 14492<br>\n",
       "<b>Number of Optimization Parameters</b>: 14490<br>\n",
       "<b>Updates</b>: True<br>\n",
       "</p>\n",
       "<style type=\"text/css\">\n",
       ".tg  {font-family:\"Courier New\", Courier, monospace !important;padding:2px 3px;word-break:normal;border-collapse:collapse;border-spacing:0;border-color:#DCDCDC;margin:0px auto;width:100%;}\n",
       ".tg td{font-family:\"Courier New\", Courier, monospace !important;font-weight:bold;color:#444;background-color:#F7FDFA;border-style:solid;border-width:1px;overflow:hidden;word-break:normal;border-color:#DCDCDC;}\n",
       ".tg th{font-family:\"Courier New\", Courier, monospace !important;font-weight:normal;color:#fff;background-color:#26ADE4;border-style:solid;border-width:1px;overflow:hidden;word-break:normal;border-color:#DCDCDC;}\n",
       ".tg .tg-left{font-family:\"Courier New\", Courier, monospace !important;font-weight:normal;text-align:left;}\n",
       ".tg .tg-center{font-family:\"Courier New\", Courier, monospace !important;font-weight:normal;text-align:center;}\n",
       ".tg .tg-right{font-family:\"Courier New\", Courier, monospace !important;font-weight:normal;text-align:right;}\n",
       "</style>\n",
       "<table class=\"tg\"><tr><th><b>  deepgp.                         </b></th><th><b>          value</b></th><th><b>constraints</b></th><th><b>priors</b></th></tr>\n",
       "<tr><td class=tg-left>  obslayer.inducing inputs        </td><td class=tg-right>        (40, 5)</td><td class=tg-center>           </td><td class=tg-center>      </td></tr>\n",
       "<tr><td class=tg-left>  obslayer.sum.rbf.variance       </td><td class=tg-right>            1.0</td><td class=tg-center>    +ve    </td><td class=tg-center>      </td></tr>\n",
       "<tr><td class=tg-left>  obslayer.sum.rbf.lengthscale    </td><td class=tg-right>           (5,)</td><td class=tg-center>    +ve    </td><td class=tg-center>      </td></tr>\n",
       "<tr><td class=tg-left>  obslayer.sum.bias.variance      </td><td class=tg-right>            1.0</td><td class=tg-center>    +ve    </td><td class=tg-center>      </td></tr>\n",
       "<tr><td class=tg-left>  obslayer.Gaussian_noise.variance</td><td class=tg-right>  2.13179847772</td><td class=tg-center> +ve fixed </td><td class=tg-center>      </td></tr>\n",
       "<tr><td class=tg-left>  obslayer.Kuu_var                </td><td class=tg-right>          (40,)</td><td class=tg-center>    +ve    </td><td class=tg-center>      </td></tr>\n",
       "<tr><td class=tg-left>  obslayer.latent space.mean      </td><td class=tg-right>       (100, 5)</td><td class=tg-center>           </td><td class=tg-center>      </td></tr>\n",
       "<tr><td class=tg-left>  obslayer.latent space.variance  </td><td class=tg-right>       (100, 5)</td><td class=tg-center>    +ve    </td><td class=tg-center>      </td></tr>\n",
       "<tr><td class=tg-left>  layer_1.inducing inputs         </td><td class=tg-right>       (40, 55)</td><td class=tg-center>           </td><td class=tg-center>      </td></tr>\n",
       "<tr><td class=tg-left>  layer_1.sum.rbf.variance        </td><td class=tg-right>            1.0</td><td class=tg-center>    +ve    </td><td class=tg-center>      </td></tr>\n",
       "<tr><td class=tg-left>  layer_1.sum.rbf.lengthscale     </td><td class=tg-right>            1.0</td><td class=tg-center>    +ve    </td><td class=tg-center>      </td></tr>\n",
       "<tr><td class=tg-left>  layer_1.sum.bias.variance       </td><td class=tg-right>            1.0</td><td class=tg-center>    +ve    </td><td class=tg-center>      </td></tr>\n",
       "<tr><td class=tg-left>  layer_1.Gaussian_noise.variance </td><td class=tg-right>0.0100039017522</td><td class=tg-center> +ve fixed </td><td class=tg-center>      </td></tr>\n",
       "<tr><td class=tg-left>  layer_1.Kuu_var                 </td><td class=tg-right>          (40,)</td><td class=tg-center>    +ve    </td><td class=tg-center>      </td></tr>\n",
       "<tr><td class=tg-left>  layer_1.latent space.mean       </td><td class=tg-right>      (100, 55)</td><td class=tg-center>           </td><td class=tg-center>      </td></tr>\n",
       "<tr><td class=tg-left>  layer_1.latent space.variance   </td><td class=tg-right>      (100, 55)</td><td class=tg-center>    +ve    </td><td class=tg-center>      </td></tr>\n",
       "</table>"
      ],
      "text/plain": [
       "<deepgp.models.model.DeepGP at 0x12189af98>"
      ]
     },
     "metadata": {},
     "output_type": "display_data"
    }
   ],
   "source": [
    "display(m)"
   ]
  },
  {
   "cell_type": "code",
   "execution_count": 17,
   "metadata": {},
   "outputs": [
    {
     "name": "stdout",
     "output_type": "stream",
     "text": [
      "Running L-BFGS-B (Scipy implementation) Code:\n",
      "  runtime   i     f              |g|        \n",
      "    00s18  001   2.772929e+04   2.660103e+08 \n",
      "    01s20  040   5.172149e+03   2.273552e+05 \n",
      "    05s22  196   1.541046e+03   1.879665e+02 \n",
      "    06s24  236   1.530905e+03   7.159914e+02 \n",
      "    19s41  743   1.429718e+03   1.042016e+02 \n",
      "    20s97  802   1.425838e+03   7.004558e+01 \n",
      "Runtime:     20s97\n",
      "Optimization status: Maximum number of f evaluations reached\n",
      "\n"
     ]
    }
   ],
   "source": [
    "m.optimize(max_iters=800, messages=True)"
   ]
  },
  {
   "cell_type": "code",
   "execution_count": 18,
   "metadata": {
    "collapsed": true
   },
   "outputs": [],
   "source": [
    "# Unfix noise variance now that we have initialized the model\n",
    "for i in range(len(m.layers)):\n",
    "    m.layers[i].Gaussian_noise.variance.unfix()"
   ]
  },
  {
   "cell_type": "code",
   "execution_count": 19,
   "metadata": {},
   "outputs": [
    {
     "name": "stdout",
     "output_type": "stream",
     "text": [
      "Running L-BFGS-B (Scipy implementation) Code:\n",
      "  runtime   i      f              |g|        \n",
      "    00s14  0001   1.425838e+03   3.782786e+03 \n",
      "    03s18  0101   1.307856e+03   8.537983e+02 \n",
      "    10s24  0339   1.293169e+03   2.541807e+01 \n",
      "    32s56  1027   1.292130e+03   1.878501e+01 \n",
      "    48s12  1502   1.291413e+03   1.317024e+01 \n",
      "Runtime:     48s12\n",
      "Optimization status: Maximum number of f evaluations reached\n",
      "\n"
     ]
    }
   ],
   "source": [
    "m.optimize(max_iters=1500, messages=True)"
   ]
  },
  {
   "cell_type": "markdown",
   "metadata": {},
   "source": [
    "### Compare with GP"
   ]
  },
  {
   "cell_type": "code",
   "execution_count": 20,
   "metadata": {
    "collapsed": true
   },
   "outputs": [],
   "source": [
    "m_GP = GPy.models.SparseGPRegression(X=X_tr, Y=Y_tr, kernel=GPy.kern.RBF(X_tr.shape[1])+GPy.kern.Bias(X_tr.shape[1]), num_inducing=num_inducing)"
   ]
  },
  {
   "cell_type": "code",
   "execution_count": 21,
   "metadata": {},
   "outputs": [
    {
     "name": "stdout",
     "output_type": "stream",
     "text": [
      "Running L-BFGS-B (Scipy implementation) Code:\n",
      "  runtime   i     f              |g|        \n",
      "    00s19  006   2.463751e+03   4.986610e+02 \n",
      "    00s33  027   2.339956e+03   5.774437e-11 \n",
      "Runtime:     00s33\n",
      "Optimization status: Converged\n",
      "\n",
      "Running L-BFGS-B (Scipy implementation) Code:\n",
      "  runtime   i     f              |g|        \n",
      "    00s07  004   1.855557e+03   2.678079e+03 \n",
      "    00s18  011   1.778417e+03   5.465010e-02 \n",
      "    00s32  029   1.778190e+03   1.885596e-09 \n",
      "Runtime:     00s32\n",
      "Optimization status: Converged\n",
      "\n"
     ]
    },
    {
     "data": {
      "text/plain": [
       "<paramz.optimization.optimization.opt_lbfgsb at 0x11c78de10>"
      ]
     },
     "execution_count": 21,
     "metadata": {},
     "output_type": "execute_result"
    }
   ],
   "source": [
    "m_GP.Gaussian_noise.variance = m_GP.Y.var()*0.01\n",
    "m_GP.Gaussian_noise.variance.fix()\n",
    "m_GP.optimize(max_iters=100, messages=True)\n",
    "m_GP.Gaussian_noise.variance.unfix()\n",
    "m_GP.optimize(max_iters=400, messages=True)"
   ]
  },
  {
   "cell_type": "code",
   "execution_count": 22,
   "metadata": {
    "collapsed": true
   },
   "outputs": [],
   "source": [
    "def rmse(predictions, targets):\n",
    "    return np.sqrt(((predictions.flatten() - targets.flatten()) ** 2).mean())\n"
   ]
  },
  {
   "cell_type": "code",
   "execution_count": 23,
   "metadata": {},
   "outputs": [
    {
     "name": "stdout",
     "output_type": "stream",
     "text": [
      "# RMSE DGP               : 3.03000726496\n",
      "# RMSE DGP (with samples): 3.03436330576\n",
      "# RMSE GP                : 3.02347121967\n"
     ]
    }
   ],
   "source": [
    "Y_pred = m.predict(X_ts)[0]\n",
    "Y_pred_s = m.predict_withSamples(X_ts, nSamples=500)[0]\n",
    "Y_pred_GP = m_GP.predict(X_ts)[0]\n",
    "\n",
    "print('# RMSE DGP               : ' + str(rmse(Y_pred, Y_ts)))\n",
    "print('# RMSE DGP (with samples): ' + str(rmse(Y_pred_s, Y_ts)))\n",
    "print('# RMSE GP                : ' + str(rmse(Y_pred_GP, Y_ts)))"
   ]
  },
  {
   "cell_type": "code",
   "execution_count": null,
   "metadata": {
    "collapsed": true
   },
   "outputs": [],
   "source": []
  }
 ],
 "metadata": {
  "anaconda-cloud": {},
  "kernelspec": {
   "display_name": "Python 3",
   "language": "python",
   "name": "python3"
  },
  "language_info": {
   "codemirror_mode": {
    "name": "ipython",
    "version": 3
   },
   "file_extension": ".py",
   "mimetype": "text/x-python",
   "name": "python",
   "nbconvert_exporter": "python",
   "pygments_lexer": "ipython3",
   "version": "3.6.3"
  }
 },
 "nbformat": 4,
 "nbformat_minor": 1
}
